{
  "nbformat": 4,
  "nbformat_minor": 0,
  "metadata": {
    "colab": {
      "provenance": []
    },
    "kernelspec": {
      "name": "python3",
      "display_name": "Python 3"
    },
    "language_info": {
      "name": "python"
    }
  },
  "cells": [
    {
      "cell_type": "markdown",
      "source": [
        "# Avaliação de Treinamento com People Analytics\n"
      ],
      "metadata": {
        "id": "jK6OArKqIru1"
      }
    },
    {
      "cell_type": "markdown",
      "source": [
        "Para avaliar a eficácia de um treinamento, podemos utilizar uma abordagem baseada em dados dos funcionários. Esta metodologia permite quantificar objetivamente o impacto do treinamento.\n",
        "\n",
        "Utilizaremos um desenho de pesquisa pré e pós-teste com o mesmo grupo trabalhadores, medindo seu desempenho antes e depois do treinamento.\n",
        "\n",
        "\n",
        "> Como fazer isso?\n",
        "\n",
        "Essa é a função do teste t pareado. O teste t pareado, também chamado de teste t para amostras dependentes (quando os dados estão relacionados ou conectados), é uma análise estatística utilizada para comparar as médias de duas condições ou momentos distintos dentro do mesmo grupo. Ele é especialmente útil em estudos que avaliam mudanças ao longo do tempo, como antes e depois de uma intervenção.\n",
        "\n",
        "\n",
        "A principal premissa do teste é que as amostras são dependentes, ou seja, os dados vêm dos mesmos indivíduos em diferentes momentos. Ele verifica se a diferença média entre as duas condições é estatisticamente significativa, levando em conta a variabilidade dos dados.\n",
        "\n",
        "\n",
        "\n",
        "> Como operacionalizar o test t pareado?\n",
        "\n",
        "O gestor de pessoas quer saber se um programa de treinamento aumentou o desempenho da equipe. Quais etapas para verificação?\n",
        "\n",
        "\n",
        "*   Coletar dados: mede o desempenho de X funcionários antes e depois do programa de treinamento.\n",
        "\n",
        "*   Calcular a diferença: para cada funcionário, subtrai o desempenho antes e depois do treinamento.\n",
        "\n",
        "*   Executar o teste t pareado: usa os dados das diferenças para calcular o valor de p para verificar a significância estatística do teste.\n",
        "\n",
        "*   Interpretar os resultados: se o valor de p for menor que 0,05, conclui que houve um aumento significativo no desempenho após o treinamento.\n",
        "\n",
        "\n",
        "\n",
        "\n",
        "\n",
        "\n",
        "\n"
      ],
      "metadata": {
        "id": "oB0LkzFEJBWj"
      }
    },
    {
      "cell_type": "code",
      "execution_count": 4,
      "metadata": {
        "id": "CiiRZ1GREoPt"
      },
      "outputs": [],
      "source": [
        "# Vamos gerar dados aleatórios de 200 funcionários de uma empresa.\n",
        "import numpy as np\n",
        "import pandas as pd\n",
        "\n",
        "# parâmetros\n",
        "np.random.seed(2025)\n",
        "n_funcionarios = 200\n",
        "primeiros_nomes = [\n",
        "    \"Alex\", \"Bianca\", \"Carlos\", \"Diana\", \"Eduardo\", \"Fernanda\", \"Gabriel\", \"Helena\",\n",
        "    \"Isabela\", \"João\", \"Karen\", \"Lucas\", \"Marina\", \"Nicolas\", \"Olivia\", \"Paulo\",\n",
        "    \"Renata\", \"Sérgio\", \"Tatiana\", \"Victor\"\n",
        "]\n",
        "ultimos_nomes = [\n",
        "    \"Almeida\", \"Barbosa\", \"Cardoso\", \"Dias\", \"Esteves\", \"Farias\", \"Gomes\", \"Henriques\",\n",
        "    \"Ibrahim\", \"Junqueira\", \"Klein\", \"Lopes\", \"Moura\", \"Novaes\", \"Oliveira\", \"Pereira\",\n",
        "    \"Queiroz\", \"Rezende\", \"Silva\", \"Teixeira\"\n",
        "]\n",
        "niveis_de_educacao = [\"Ensino Médio\", \"Graduação\", \"Mestrado\", \"Doutorado\"]\n",
        "departamentos = [\n",
        "    \"Finanças\", \"Recursos Humanos\", \"Operações\", \"Vendas\", \"Tecnologia da Informação\",\n",
        "    \"Marketing\", \"Pesquisa e Desenvolvimento\", \"Atendimento ao Cliente\"\n",
        "]\n",
        "\n",
        "def nome_aleatorio():\n",
        "    return f\"{np.random.choice(primeiros_nomes)} {np.random.choice(ultimos_nomes)}\"\n",
        "\n",
        "nomes = [nome_aleatorio() for _ in range(n_funcionarios)]\n",
        "educacao = np.random.choice(niveis_de_educacao, size=n_funcionarios, p=[0.25, 0.45, 0.25, 0.05])\n",
        "departamento = np.random.choice(departamentos, size=n_funcionarios)\n",
        "pontuacoes_pre_treinamento = np.clip(np.random.normal(loc=70, scale=10, size=n_funcionarios), 0, 100)\n",
        "pontuacoes_pos_treinamento = np.clip(pontuacoes_pre_treinamento + np.random.normal(loc=5, scale=5, size=n_funcionarios), 0, 100)\n",
        "\n",
        "df_corporativo = pd.DataFrame({\n",
        "    \"nome_do_funcionario\": nomes,\n",
        "    \"nivel_de_educacao\": educacao,\n",
        "    \"departamento\": departamento,\n",
        "    \"pontuacao_pre_treinamento\": pontuacoes_pre_treinamento.round(1),\n",
        "    \"pontuacao_pos_treinamento\": pontuacoes_pos_treinamento.round(1)\n",
        "})\n",
        "\n"
      ]
    },
    {
      "cell_type": "code",
      "source": [
        "# prompt: imprimir linhas iniciais df_corporativo\n",
        "\n",
        "print(df_corporativo.head())\n"
      ],
      "metadata": {
        "colab": {
          "base_uri": "https://localhost:8080/"
        },
        "id": "9GioBkQ_G91y",
        "outputId": "4bdeda64-b394-49d3-9ce2-745692720e3d"
      },
      "execution_count": 5,
      "outputs": [
        {
          "output_type": "stream",
          "name": "stdout",
          "text": [
            "  nome_do_funcionario nivel_de_educacao            departamento  \\\n",
            "0       Tatiana Moura      Ensino Médio                Finanças   \n",
            "1      Diana Teixeira         Graduação  Atendimento ao Cliente   \n",
            "2      Marina Almeida          Mestrado        Recursos Humanos   \n",
            "3      Fernanda Klein          Mestrado               Operações   \n",
            "4      Olivia Barbosa          Mestrado               Operações   \n",
            "\n",
            "   pontuacao_pre_treinamento  pontuacao_pos_treinamento  \n",
            "0                       66.1                       64.7  \n",
            "1                       50.2                       50.8  \n",
            "2                       78.5                       90.8  \n",
            "3                       62.7                       72.4  \n",
            "4                       64.6                       70.4  \n"
          ]
        }
      ]
    },
    {
      "cell_type": "markdown",
      "source": [
        "Será que houve mudança no desempenho dos profissionais após o treinamento?\n",
        "\n"
      ],
      "metadata": {
        "id": "Zzl-l_H8HkXN"
      }
    },
    {
      "cell_type": "code",
      "source": [
        "# prompt: Estatística descritiva\n",
        "\n",
        "pre_mean = df_corporativo[\"pontuacao_pre_treinamento\"].mean()\n",
        "post_mean = df_corporativo[\"pontuacao_pos_treinamento\"].mean()\n",
        "improvement = df_corporativo[\"pontuacao_pos_treinamento\"] - df_corporativo[\"pontuacao_pre_treinamento\"]\n",
        "impr_mean = improvement.mean()\n",
        "impr_std = improvement.std(ddof=1)\n",
        "\n",
        "print(f\"Pontuação média antes do treinamento: {pre_mean:.2f}\")\n",
        "print(f\"Pontuação média após o treinamento: {post_mean:.2f}\")\n",
        "print(f\"Melhora média nas pontuações: {impr_mean:.2f}\")\n",
        "print(f\"Desvio padrão da melhora: {impr_std:.2f}\")\n"
      ],
      "metadata": {
        "colab": {
          "base_uri": "https://localhost:8080/"
        },
        "id": "OkUk5xikHZ3d",
        "outputId": "64de44c7-b723-4774-abf6-70cd0d1bb20a"
      },
      "execution_count": 6,
      "outputs": [
        {
          "output_type": "stream",
          "name": "stdout",
          "text": [
            "Pontuação média antes do treinamento: 69.98\n",
            "Pontuação média após o treinamento: 74.80\n",
            "Melhora média nas pontuações: 4.81\n",
            "Desvio padrão da melhora: 5.12\n"
          ]
        }
      ]
    },
    {
      "cell_type": "code",
      "source": [
        "# prompt: aplicar o t-test & Wilcoxon signed-rank\n",
        "\n",
        "from scipy import stats\n",
        "\n",
        "t_stat, p_val = stats.ttest_rel(df_corporativo[\"pontuacao_pos_treinamento\"], df_corporativo[\"pontuacao_pre_treinamento\"])\n",
        "wilcoxon_stat, wilcoxon_p = stats.wilcoxon(df_corporativo[\"pontuacao_pos_treinamento\"], df_corporativo[\"pontuacao_pre_treinamento\"])\n",
        "\n",
        "print(f\"Paired t-test: t-statistic = {t_stat:.2f}, p-value = {p_val:.3f}\")\n",
        "print(f\"Wilcoxon signed-rank test: statistic = {wilcoxon_stat:.0f}, p-value = {wilcoxon_p:.3f}\")\n"
      ],
      "metadata": {
        "colab": {
          "base_uri": "https://localhost:8080/"
        },
        "id": "c9X60LmDIAtm",
        "outputId": "edeedd9e-3224-4885-ba97-37ed4f5c00fe"
      },
      "execution_count": 7,
      "outputs": [
        {
          "output_type": "stream",
          "name": "stdout",
          "text": [
            "Paired t-test: t-statistic = 13.29, p-value = 0.000\n",
            "Wilcoxon signed-rank test: statistic = 1886, p-value = 0.000\n"
          ]
        }
      ]
    },
    {
      "cell_type": "markdown",
      "source": [
        "Vamos analisar os resultados\n",
        "\n",
        "1. Teste t pareado (Paired t-test)\n",
        "t-statistic = 13.29: Esse valor indica o tamanho da diferença relativa entre as médias antes e depois do treinamento. Quanto maior o valor absoluto, maior a diferença detectada.\n",
        "\n",
        "p-value = 0.000: Um p-valor tão pequeno (menor que 0.05) sugere que há uma diferença estatisticamente significativa entre as médias pré e pós-treinamento. Isso significa que a melhoria no desempenho não ocorreu por acaso.\n",
        "\n",
        "2. Teste de Wilcoxon (Wilcoxon signed-rank test)\n",
        "statistic = 1886: Esse é o valor do teste de Wilcoxon, que mede mudanças na distribuição dos dados.\n",
        "\n",
        "p-value = 0.000: Assim como no teste t pareado, esse valor confirma uma diferença significativa entre os dados antes e depois do treinamento.\n",
        "\n",
        "\n",
        "Ambos os testes indicam que o desempenho dos funcionários melhorou após o treinamento. O teste t pareado é mais sensível a diferenças na média, enquanto o Wilcoxon é robusto para dados que não seguem uma distribuição normal. Como ambos os testes indicam um resultado significativo, pode-se concluir com confiança que houve um impacto real do treinamento."
      ],
      "metadata": {
        "id": "hc1KypiCOFGQ"
      }
    },
    {
      "cell_type": "code",
      "source": [
        "# prompt: realizar o teste de Cohen e verificar o intervalo de confiança\n",
        "\n",
        "\n",
        "# Cohen's d (paired)\n",
        "cohen_d = impr_mean / impr_std\n",
        "print(f\"Cohen's d: {cohen_d:.2f}\")\n",
        "\n",
        "# 95% intervalo de confiânça para a melhoria da média (t distribution)\n",
        "from scipy.stats import t\n",
        "n = len(improvement)\n",
        "ci_low, ci_high = t.interval(0.95, df=n-1, loc=impr_mean, scale=impr_std/np.sqrt(n))\n",
        "print(f\"95% para a melhoria da média: [{ci_low:.2f}, {ci_high:.2f}]\")\n",
        "\n"
      ],
      "metadata": {
        "colab": {
          "base_uri": "https://localhost:8080/"
        },
        "id": "iMGRnQ-kNoJl",
        "outputId": "85f51654-1d2f-497a-bce5-f58ede98c43b"
      },
      "execution_count": 10,
      "outputs": [
        {
          "output_type": "stream",
          "name": "stdout",
          "text": [
            "Cohen's d: 0.94\n",
            "95% para a melhoria da média: [4.10, 5.52]\n"
          ]
        }
      ]
    },
    {
      "cell_type": "code",
      "source": [],
      "metadata": {
        "id": "kAnjzo9tR4b3"
      },
      "execution_count": null,
      "outputs": []
    },
    {
      "cell_type": "markdown",
      "source": [
        "O d de Cohen é uma medida de tamanho de efeito que quantifica a diferença entre duas médias em termos de desvios padrão. Ele ajuda a entender a magnitude da diferença entre dois grupos ou condições.\n",
        "\n",
        "Interpretação do valor 0.94:\n",
        "\n",
        "* Pequeno: 0.2 a 0.49\n",
        "\n",
        "* Médio: 0.5 a 0.79\n",
        "\n",
        "* Grande: 0.8 ou mais\n",
        "\n",
        "Com um d de Cohen de aproximadamente 0.94, isso indica um tamanho de efeito grande do treinamento realizado.\n",
        "\n",
        "O intervalo de confiança de 95% para a melhoria da média [4.10, 5.52] indica que, com alta certeza estatística, a melhora média no desempenho após o treinamento está dentro desse intervalo. Isso significa que, se repetíssemos esse estudo várias vezes, em 95% dos casos, a melhoria média estaria entre 4.10 e 5.52 pontos."
      ],
      "metadata": {
        "id": "mhTRPI-MQmwJ"
      }
    },
    {
      "cell_type": "code",
      "source": [
        "# Criar um dataset resumo com os resultados dos testes realizados\n",
        "\n",
        "import pandas as pd\n",
        "\n",
        "summary_df = pd.DataFrame({\n",
        "    \"Métrica\": [\"Média antes\", \"Média depois\", \"Melhora média\", \"Desvio padrão da melhora\",\n",
        "               \"t pareado\", \"p-valor (t)\", \"Estatística de Wilcoxon\", \"p-valor (Wilcoxon)\",\n",
        "               \"d de Cohen\", \"IC 95% inferior\", \"IC 95% superior\"],\n",
        "    \"Valor\": [pre_mean, post_mean, impr_mean, impr_std,\n",
        "              t_stat, p_val, wilcoxon_stat, wilcoxon_p,\n",
        "              cohen_d, ci_low, ci_high]\n",
        "})\n",
        "display_dataframe_to_user(\"Estatísticas Gerais\", summary_df)\n"
      ],
      "metadata": {
        "colab": {
          "base_uri": "https://localhost:8080/",
          "height": 411
        },
        "id": "VDoO30IOPuLH",
        "outputId": "0a93aeca-fcd9-43e5-8a8d-6311832828f3"
      },
      "execution_count": 12,
      "outputs": [
        {
          "output_type": "stream",
          "name": "stdout",
          "text": [
            "## Estatísticas Gerais\n"
          ]
        },
        {
          "output_type": "display_data",
          "data": {
            "text/plain": [
              "                     Métrica         Valor\n",
              "0                Média antes  6.998450e+01\n",
              "1               Média depois  7.479500e+01\n",
              "2              Melhora média  4.810500e+00\n",
              "3   Desvio padrão da melhora  5.119707e+00\n",
              "4                  t pareado  1.328802e+01\n",
              "5                p-valor (t)  2.933810e-29\n",
              "6    Estatística de Wilcoxon  1.886000e+03\n",
              "7         p-valor (Wilcoxon)  3.632625e-23\n",
              "8                 d de Cohen  9.396046e-01\n",
              "9            IC 95% inferior  4.096616e+00\n",
              "10           IC 95% superior  5.524384e+00"
            ],
            "text/html": [
              "\n",
              "  <div id=\"df-5d11a320-cd96-46cc-a387-2416346d8343\" class=\"colab-df-container\">\n",
              "    <div>\n",
              "<style scoped>\n",
              "    .dataframe tbody tr th:only-of-type {\n",
              "        vertical-align: middle;\n",
              "    }\n",
              "\n",
              "    .dataframe tbody tr th {\n",
              "        vertical-align: top;\n",
              "    }\n",
              "\n",
              "    .dataframe thead th {\n",
              "        text-align: right;\n",
              "    }\n",
              "</style>\n",
              "<table border=\"1\" class=\"dataframe\">\n",
              "  <thead>\n",
              "    <tr style=\"text-align: right;\">\n",
              "      <th></th>\n",
              "      <th>Métrica</th>\n",
              "      <th>Valor</th>\n",
              "    </tr>\n",
              "  </thead>\n",
              "  <tbody>\n",
              "    <tr>\n",
              "      <th>0</th>\n",
              "      <td>Média antes</td>\n",
              "      <td>6.998450e+01</td>\n",
              "    </tr>\n",
              "    <tr>\n",
              "      <th>1</th>\n",
              "      <td>Média depois</td>\n",
              "      <td>7.479500e+01</td>\n",
              "    </tr>\n",
              "    <tr>\n",
              "      <th>2</th>\n",
              "      <td>Melhora média</td>\n",
              "      <td>4.810500e+00</td>\n",
              "    </tr>\n",
              "    <tr>\n",
              "      <th>3</th>\n",
              "      <td>Desvio padrão da melhora</td>\n",
              "      <td>5.119707e+00</td>\n",
              "    </tr>\n",
              "    <tr>\n",
              "      <th>4</th>\n",
              "      <td>t pareado</td>\n",
              "      <td>1.328802e+01</td>\n",
              "    </tr>\n",
              "    <tr>\n",
              "      <th>5</th>\n",
              "      <td>p-valor (t)</td>\n",
              "      <td>2.933810e-29</td>\n",
              "    </tr>\n",
              "    <tr>\n",
              "      <th>6</th>\n",
              "      <td>Estatística de Wilcoxon</td>\n",
              "      <td>1.886000e+03</td>\n",
              "    </tr>\n",
              "    <tr>\n",
              "      <th>7</th>\n",
              "      <td>p-valor (Wilcoxon)</td>\n",
              "      <td>3.632625e-23</td>\n",
              "    </tr>\n",
              "    <tr>\n",
              "      <th>8</th>\n",
              "      <td>d de Cohen</td>\n",
              "      <td>9.396046e-01</td>\n",
              "    </tr>\n",
              "    <tr>\n",
              "      <th>9</th>\n",
              "      <td>IC 95% inferior</td>\n",
              "      <td>4.096616e+00</td>\n",
              "    </tr>\n",
              "    <tr>\n",
              "      <th>10</th>\n",
              "      <td>IC 95% superior</td>\n",
              "      <td>5.524384e+00</td>\n",
              "    </tr>\n",
              "  </tbody>\n",
              "</table>\n",
              "</div>\n",
              "    <div class=\"colab-df-buttons\">\n",
              "\n",
              "  <div class=\"colab-df-container\">\n",
              "    <button class=\"colab-df-convert\" onclick=\"convertToInteractive('df-5d11a320-cd96-46cc-a387-2416346d8343')\"\n",
              "            title=\"Convert this dataframe to an interactive table.\"\n",
              "            style=\"display:none;\">\n",
              "\n",
              "  <svg xmlns=\"http://www.w3.org/2000/svg\" height=\"24px\" viewBox=\"0 -960 960 960\">\n",
              "    <path d=\"M120-120v-720h720v720H120Zm60-500h600v-160H180v160Zm220 220h160v-160H400v160Zm0 220h160v-160H400v160ZM180-400h160v-160H180v160Zm440 0h160v-160H620v160ZM180-180h160v-160H180v160Zm440 0h160v-160H620v160Z\"/>\n",
              "  </svg>\n",
              "    </button>\n",
              "\n",
              "  <style>\n",
              "    .colab-df-container {\n",
              "      display:flex;\n",
              "      gap: 12px;\n",
              "    }\n",
              "\n",
              "    .colab-df-convert {\n",
              "      background-color: #E8F0FE;\n",
              "      border: none;\n",
              "      border-radius: 50%;\n",
              "      cursor: pointer;\n",
              "      display: none;\n",
              "      fill: #1967D2;\n",
              "      height: 32px;\n",
              "      padding: 0 0 0 0;\n",
              "      width: 32px;\n",
              "    }\n",
              "\n",
              "    .colab-df-convert:hover {\n",
              "      background-color: #E2EBFA;\n",
              "      box-shadow: 0px 1px 2px rgba(60, 64, 67, 0.3), 0px 1px 3px 1px rgba(60, 64, 67, 0.15);\n",
              "      fill: #174EA6;\n",
              "    }\n",
              "\n",
              "    .colab-df-buttons div {\n",
              "      margin-bottom: 4px;\n",
              "    }\n",
              "\n",
              "    [theme=dark] .colab-df-convert {\n",
              "      background-color: #3B4455;\n",
              "      fill: #D2E3FC;\n",
              "    }\n",
              "\n",
              "    [theme=dark] .colab-df-convert:hover {\n",
              "      background-color: #434B5C;\n",
              "      box-shadow: 0px 1px 3px 1px rgba(0, 0, 0, 0.15);\n",
              "      filter: drop-shadow(0px 1px 2px rgba(0, 0, 0, 0.3));\n",
              "      fill: #FFFFFF;\n",
              "    }\n",
              "  </style>\n",
              "\n",
              "    <script>\n",
              "      const buttonEl =\n",
              "        document.querySelector('#df-5d11a320-cd96-46cc-a387-2416346d8343 button.colab-df-convert');\n",
              "      buttonEl.style.display =\n",
              "        google.colab.kernel.accessAllowed ? 'block' : 'none';\n",
              "\n",
              "      async function convertToInteractive(key) {\n",
              "        const element = document.querySelector('#df-5d11a320-cd96-46cc-a387-2416346d8343');\n",
              "        const dataTable =\n",
              "          await google.colab.kernel.invokeFunction('convertToInteractive',\n",
              "                                                    [key], {});\n",
              "        if (!dataTable) return;\n",
              "\n",
              "        const docLinkHtml = 'Like what you see? Visit the ' +\n",
              "          '<a target=\"_blank\" href=https://colab.research.google.com/notebooks/data_table.ipynb>data table notebook</a>'\n",
              "          + ' to learn more about interactive tables.';\n",
              "        element.innerHTML = '';\n",
              "        dataTable['output_type'] = 'display_data';\n",
              "        await google.colab.output.renderOutput(dataTable, element);\n",
              "        const docLink = document.createElement('div');\n",
              "        docLink.innerHTML = docLinkHtml;\n",
              "        element.appendChild(docLink);\n",
              "      }\n",
              "    </script>\n",
              "  </div>\n",
              "\n",
              "\n",
              "    <div id=\"df-600faa98-f307-4ba9-bf52-75aa448e03f0\">\n",
              "      <button class=\"colab-df-quickchart\" onclick=\"quickchart('df-600faa98-f307-4ba9-bf52-75aa448e03f0')\"\n",
              "                title=\"Suggest charts\"\n",
              "                style=\"display:none;\">\n",
              "\n",
              "<svg xmlns=\"http://www.w3.org/2000/svg\" height=\"24px\"viewBox=\"0 0 24 24\"\n",
              "     width=\"24px\">\n",
              "    <g>\n",
              "        <path d=\"M19 3H5c-1.1 0-2 .9-2 2v14c0 1.1.9 2 2 2h14c1.1 0 2-.9 2-2V5c0-1.1-.9-2-2-2zM9 17H7v-7h2v7zm4 0h-2V7h2v10zm4 0h-2v-4h2v4z\"/>\n",
              "    </g>\n",
              "</svg>\n",
              "      </button>\n",
              "\n",
              "<style>\n",
              "  .colab-df-quickchart {\n",
              "      --bg-color: #E8F0FE;\n",
              "      --fill-color: #1967D2;\n",
              "      --hover-bg-color: #E2EBFA;\n",
              "      --hover-fill-color: #174EA6;\n",
              "      --disabled-fill-color: #AAA;\n",
              "      --disabled-bg-color: #DDD;\n",
              "  }\n",
              "\n",
              "  [theme=dark] .colab-df-quickchart {\n",
              "      --bg-color: #3B4455;\n",
              "      --fill-color: #D2E3FC;\n",
              "      --hover-bg-color: #434B5C;\n",
              "      --hover-fill-color: #FFFFFF;\n",
              "      --disabled-bg-color: #3B4455;\n",
              "      --disabled-fill-color: #666;\n",
              "  }\n",
              "\n",
              "  .colab-df-quickchart {\n",
              "    background-color: var(--bg-color);\n",
              "    border: none;\n",
              "    border-radius: 50%;\n",
              "    cursor: pointer;\n",
              "    display: none;\n",
              "    fill: var(--fill-color);\n",
              "    height: 32px;\n",
              "    padding: 0;\n",
              "    width: 32px;\n",
              "  }\n",
              "\n",
              "  .colab-df-quickchart:hover {\n",
              "    background-color: var(--hover-bg-color);\n",
              "    box-shadow: 0 1px 2px rgba(60, 64, 67, 0.3), 0 1px 3px 1px rgba(60, 64, 67, 0.15);\n",
              "    fill: var(--button-hover-fill-color);\n",
              "  }\n",
              "\n",
              "  .colab-df-quickchart-complete:disabled,\n",
              "  .colab-df-quickchart-complete:disabled:hover {\n",
              "    background-color: var(--disabled-bg-color);\n",
              "    fill: var(--disabled-fill-color);\n",
              "    box-shadow: none;\n",
              "  }\n",
              "\n",
              "  .colab-df-spinner {\n",
              "    border: 2px solid var(--fill-color);\n",
              "    border-color: transparent;\n",
              "    border-bottom-color: var(--fill-color);\n",
              "    animation:\n",
              "      spin 1s steps(1) infinite;\n",
              "  }\n",
              "\n",
              "  @keyframes spin {\n",
              "    0% {\n",
              "      border-color: transparent;\n",
              "      border-bottom-color: var(--fill-color);\n",
              "      border-left-color: var(--fill-color);\n",
              "    }\n",
              "    20% {\n",
              "      border-color: transparent;\n",
              "      border-left-color: var(--fill-color);\n",
              "      border-top-color: var(--fill-color);\n",
              "    }\n",
              "    30% {\n",
              "      border-color: transparent;\n",
              "      border-left-color: var(--fill-color);\n",
              "      border-top-color: var(--fill-color);\n",
              "      border-right-color: var(--fill-color);\n",
              "    }\n",
              "    40% {\n",
              "      border-color: transparent;\n",
              "      border-right-color: var(--fill-color);\n",
              "      border-top-color: var(--fill-color);\n",
              "    }\n",
              "    60% {\n",
              "      border-color: transparent;\n",
              "      border-right-color: var(--fill-color);\n",
              "    }\n",
              "    80% {\n",
              "      border-color: transparent;\n",
              "      border-right-color: var(--fill-color);\n",
              "      border-bottom-color: var(--fill-color);\n",
              "    }\n",
              "    90% {\n",
              "      border-color: transparent;\n",
              "      border-bottom-color: var(--fill-color);\n",
              "    }\n",
              "  }\n",
              "</style>\n",
              "\n",
              "      <script>\n",
              "        async function quickchart(key) {\n",
              "          const quickchartButtonEl =\n",
              "            document.querySelector('#' + key + ' button');\n",
              "          quickchartButtonEl.disabled = true;  // To prevent multiple clicks.\n",
              "          quickchartButtonEl.classList.add('colab-df-spinner');\n",
              "          try {\n",
              "            const charts = await google.colab.kernel.invokeFunction(\n",
              "                'suggestCharts', [key], {});\n",
              "          } catch (error) {\n",
              "            console.error('Error during call to suggestCharts:', error);\n",
              "          }\n",
              "          quickchartButtonEl.classList.remove('colab-df-spinner');\n",
              "          quickchartButtonEl.classList.add('colab-df-quickchart-complete');\n",
              "        }\n",
              "        (() => {\n",
              "          let quickchartButtonEl =\n",
              "            document.querySelector('#df-600faa98-f307-4ba9-bf52-75aa448e03f0 button');\n",
              "          quickchartButtonEl.style.display =\n",
              "            google.colab.kernel.accessAllowed ? 'block' : 'none';\n",
              "        })();\n",
              "      </script>\n",
              "    </div>\n",
              "\n",
              "  <div id=\"id_763b52a4-ed1a-4f8c-9652-b14cc7a59be6\">\n",
              "    <style>\n",
              "      .colab-df-generate {\n",
              "        background-color: #E8F0FE;\n",
              "        border: none;\n",
              "        border-radius: 50%;\n",
              "        cursor: pointer;\n",
              "        display: none;\n",
              "        fill: #1967D2;\n",
              "        height: 32px;\n",
              "        padding: 0 0 0 0;\n",
              "        width: 32px;\n",
              "      }\n",
              "\n",
              "      .colab-df-generate:hover {\n",
              "        background-color: #E2EBFA;\n",
              "        box-shadow: 0px 1px 2px rgba(60, 64, 67, 0.3), 0px 1px 3px 1px rgba(60, 64, 67, 0.15);\n",
              "        fill: #174EA6;\n",
              "      }\n",
              "\n",
              "      [theme=dark] .colab-df-generate {\n",
              "        background-color: #3B4455;\n",
              "        fill: #D2E3FC;\n",
              "      }\n",
              "\n",
              "      [theme=dark] .colab-df-generate:hover {\n",
              "        background-color: #434B5C;\n",
              "        box-shadow: 0px 1px 3px 1px rgba(0, 0, 0, 0.15);\n",
              "        filter: drop-shadow(0px 1px 2px rgba(0, 0, 0, 0.3));\n",
              "        fill: #FFFFFF;\n",
              "      }\n",
              "    </style>\n",
              "    <button class=\"colab-df-generate\" onclick=\"generateWithVariable('summary_df')\"\n",
              "            title=\"Generate code using this dataframe.\"\n",
              "            style=\"display:none;\">\n",
              "\n",
              "  <svg xmlns=\"http://www.w3.org/2000/svg\" height=\"24px\"viewBox=\"0 0 24 24\"\n",
              "       width=\"24px\">\n",
              "    <path d=\"M7,19H8.4L18.45,9,17,7.55,7,17.6ZM5,21V16.75L18.45,3.32a2,2,0,0,1,2.83,0l1.4,1.43a1.91,1.91,0,0,1,.58,1.4,1.91,1.91,0,0,1-.58,1.4L9.25,21ZM18.45,9,17,7.55Zm-12,3A5.31,5.31,0,0,0,4.9,8.1,5.31,5.31,0,0,0,1,6.5,5.31,5.31,0,0,0,4.9,4.9,5.31,5.31,0,0,0,6.5,1,5.31,5.31,0,0,0,8.1,4.9,5.31,5.31,0,0,0,12,6.5,5.46,5.46,0,0,0,6.5,12Z\"/>\n",
              "  </svg>\n",
              "    </button>\n",
              "    <script>\n",
              "      (() => {\n",
              "      const buttonEl =\n",
              "        document.querySelector('#id_763b52a4-ed1a-4f8c-9652-b14cc7a59be6 button.colab-df-generate');\n",
              "      buttonEl.style.display =\n",
              "        google.colab.kernel.accessAllowed ? 'block' : 'none';\n",
              "\n",
              "      buttonEl.onclick = () => {\n",
              "        google.colab.notebook.generateWithVariable('summary_df');\n",
              "      }\n",
              "      })();\n",
              "    </script>\n",
              "  </div>\n",
              "\n",
              "    </div>\n",
              "  </div>\n"
            ],
            "application/vnd.google.colaboratory.intrinsic+json": {
              "type": "dataframe",
              "variable_name": "summary_df",
              "summary": "{\n  \"name\": \"summary_df\",\n  \"rows\": 11,\n  \"fields\": [\n    {\n      \"column\": \"M\\u00e9trica\",\n      \"properties\": {\n        \"dtype\": \"string\",\n        \"num_unique_values\": 11,\n        \"samples\": [\n          \"p-valor (t)\",\n          \"M\\u00e9dia antes\",\n          \"IC 95% inferior\"\n        ],\n        \"semantic_type\": \"\",\n        \"description\": \"\"\n      }\n    },\n    {\n      \"column\": \"Valor\",\n      \"properties\": {\n        \"dtype\": \"number\",\n        \"std\": 563.9389348202494,\n        \"min\": 2.9338104944039975e-29,\n        \"max\": 1886.0,\n        \"num_unique_values\": 11,\n        \"samples\": [\n          2.9338104944039975e-29,\n          69.98450000000001,\n          4.09661636828061\n        ],\n        \"semantic_type\": \"\",\n        \"description\": \"\"\n      }\n    }\n  ]\n}"
            }
          },
          "metadata": {}
        }
      ]
    },
    {
      "cell_type": "code",
      "source": [
        "# prompt: Boxplot pre vs post treinamento\n",
        "\n",
        "import matplotlib.pyplot as plt\n",
        "\n",
        "plt.figure()\n",
        "plt.boxplot([df_corporativo[\"pontuacao_pre_treinamento\"], df_corporativo[\"pontuacao_pos_treinamento\"]], labels=[\"Pre\", \"Post\"])\n",
        "plt.title(\"Distribuição de Pontuações antes e depois do Treinamento\")\n",
        "plt.xlabel(\"Tempo\")\n",
        "plt.ylabel(\"Pontuação\")\n",
        "plt.grid(axis=\"y\")\n",
        "plt.show()\n",
        "\n"
      ],
      "metadata": {
        "colab": {
          "base_uri": "https://localhost:8080/",
          "height": 527
        },
        "id": "hFRQFzp5R7e3",
        "outputId": "6584a286-e7fa-48d3-e101-d66e11461179"
      },
      "execution_count": 16,
      "outputs": [
        {
          "output_type": "stream",
          "name": "stderr",
          "text": [
            "<ipython-input-16-7d422ab610c5>:6: MatplotlibDeprecationWarning: The 'labels' parameter of boxplot() has been renamed 'tick_labels' since Matplotlib 3.9; support for the old name will be dropped in 3.11.\n",
            "  plt.boxplot([df_corporativo[\"pontuacao_pre_treinamento\"], df_corporativo[\"pontuacao_pos_treinamento\"]], labels=[\"Pre\", \"Post\"])\n"
          ]
        },
        {
          "output_type": "display_data",
          "data": {
            "text/plain": [
              "<Figure size 640x480 with 1 Axes>"
            ],
            "image/png": "[encoded data removed]"
          },
          "metadata": {}
        }
      ]
    },
    {
      "cell_type": "code",
      "source": [
        "# prompt: Bar chart da melhoria por departamento\n",
        "\n",
        "\n",
        "import matplotlib.pyplot as plt\n",
        "\n",
        "dept_stats = df_corporativo.groupby(\"departamento\")[[\"pontuacao_pos_treinamento\", \"pontuacao_pre_treinamento\"]].mean()\n",
        "dept_stats[\"mean_improvement\"] = dept_stats[\"pontuacao_pos_treinamento\"] - dept_stats[\"pontuacao_pre_treinamento\"]\n",
        "dept_stats = dept_stats.reset_index()\n",
        "plt.figure(figsize=(10, 6)) # Adjust figure size for better readability\n",
        "plt.bar(dept_stats[\"departamento\"], dept_stats[\"mean_improvement\"])\n",
        "plt.title(\"Average Improvement by Department\")\n",
        "plt.ylabel(\"Mean score increase\")\n",
        "plt.xlabel(\"Department\") # Add x-axis label\n",
        "plt.xticks(rotation=45, ha=\"right\")\n",
        "plt.grid(axis=\"y\")\n",
        "plt.tight_layout()\n",
        "plt.show()\n"
      ],
      "metadata": {
        "colab": {
          "base_uri": "https://localhost:8080/",
          "height": 607
        },
        "id": "xBN_WnecR7M7",
        "outputId": "4074ad7b-3ff2-4461-dbfe-61c365d4d8cf"
      },
      "execution_count": 22,
      "outputs": [
        {
          "output_type": "display_data",
          "data": {
            "text/plain": [
              "<Figure size 1000x600 with 1 Axes>"
            ],
            "image/png": "[encoded data removed]"
          },
          "metadata": {}
        }
      ]
    },
    {
      "cell_type": "markdown",
      "source": [
        "Com base nos resultados, verifica-se que o investimento em treinamento dos funcionários foi positivo e justificado."
      ],
      "metadata": {
        "id": "w0nmc-1MUJFw"
      }
    }
  ]
}